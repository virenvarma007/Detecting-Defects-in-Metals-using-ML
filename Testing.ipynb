{
  "nbformat": 4,
  "nbformat_minor": 0,
  "metadata": {
    "colab": {
      "name": "Testing.ipynb",
      "provenance": []
    },
    "kernelspec": {
      "name": "python3",
      "display_name": "Python 3"
    },
    "language_info": {
      "name": "python"
    }
  },
  "cells": [
    {
      "cell_type": "code",
      "metadata": {
        "id": "IDGHtYZvDM1X"
      },
      "source": [
        "import cv2\n",
        "import numpy as np\n",
        "import tensorflow as tf\n",
        "from tensorflow import keras\n",
        "import os\n",
        "from matplotlib import pyplot as plt\n",
        "from google.colab.patches import cv2_imshow"
      ],
      "execution_count": 1,
      "outputs": []
    },
    {
      "cell_type": "code",
      "metadata": {
        "colab": {
          "base_uri": "https://localhost:8080/"
        },
        "id": "JJVV1UJhDUFl",
        "outputId": "4f4a2426-2582-4b1f-f28e-f08684ae04db"
      },
      "source": [
        "from google.colab import drive\n",
        "drive.mount('/content/drive')"
      ],
      "execution_count": 2,
      "outputs": [
        {
          "output_type": "stream",
          "text": [
            "Mounted at /content/drive\n"
          ],
          "name": "stdout"
        }
      ]
    },
    {
      "cell_type": "code",
      "metadata": {
        "id": "JHMGSDJYDiX3"
      },
      "source": [
        "from tensorflow.keras.models import load_model\n",
        "model= load_model('/content/drive/MyDrive/Defect detector/model_5_epochs.h5')"
      ],
      "execution_count": 3,
      "outputs": []
    },
    {
      "cell_type": "code",
      "metadata": {
        "colab": {
          "base_uri": "https://localhost:8080/"
        },
        "id": "fOfpuuiOD118",
        "outputId": "02a1923f-23ad-4b62-b116-da4ac3b5fae6"
      },
      "source": [
        "img = cv2.imread('/content/drive/MyDrive/Defect detector/TEST/Oil_spot/img_07_3437011100_00683.jpg')\n",
        "img1= tf.image.resize(img,[224,224])\n",
        "img2=tf.reshape(img1,[1,224,224,3])\n",
        "print(img2.shape)\n",
        "print(img1.shape)\n",
        "model.summary()"
      ],
      "execution_count": 5,
      "outputs": [
        {
          "output_type": "stream",
          "text": [
            "(1, 224, 224, 3)\n",
            "(224, 224, 3)\n",
            "Model: \"model\"\n",
            "__________________________________________________________________________________________________\n",
            "Layer (type)                    Output Shape         Param #     Connected to                     \n",
            "==================================================================================================\n",
            "input_2 (InputLayer)            [(None, 224, 224, 3) 0                                            \n",
            "__________________________________________________________________________________________________\n",
            "xception (Functional)           (None, 2048)         20861480    input_2[0][0]                    \n",
            "__________________________________________________________________________________________________\n",
            "dense_2 (Dense)                 (None, 1024)         2098176     xception[0][0]                   \n",
            "__________________________________________________________________________________________________\n",
            "dense (Dense)                   (None, 1024)         2098176     xception[0][0]                   \n",
            "__________________________________________________________________________________________________\n",
            "dropout (Dropout)               (None, 1024)         0           dense_2[0][0]                    \n",
            "__________________________________________________________________________________________________\n",
            "dense_1 (Dense)                 (None, 512)          524800      dense[0][0]                      \n",
            "__________________________________________________________________________________________________\n",
            "dense_3 (Dense)                 (None, 512)          524800      dropout[0][0]                    \n",
            "__________________________________________________________________________________________________\n",
            "out1 (Dense)                    (None, 1)            513         dense_1[0][0]                    \n",
            "__________________________________________________________________________________________________\n",
            "out2 (Dense)                    (None, 1)            513         dense_1[0][0]                    \n",
            "__________________________________________________________________________________________________\n",
            "out3 (Dense)                    (None, 1)            513         dense_1[0][0]                    \n",
            "__________________________________________________________________________________________________\n",
            "out4 (Dense)                    (None, 1)            513         dense_1[0][0]                    \n",
            "__________________________________________________________________________________________________\n",
            "out_item (Dense)                (None, 10)           5130        dense_3[0][0]                    \n",
            "==================================================================================================\n",
            "Total params: 26,114,614\n",
            "Trainable params: 26,060,086\n",
            "Non-trainable params: 54,528\n",
            "__________________________________________________________________________________________________\n"
          ],
          "name": "stdout"
        }
      ]
    },
    {
      "cell_type": "code",
      "metadata": {
        "colab": {
          "base_uri": "https://localhost:8080/"
        },
        "id": "LGr-7AcHEM3N",
        "outputId": "cc00eec0-29c5-40cd-9171-6e637984aa9a"
      },
      "source": [
        "predictions= model.predict(img2)\n",
        "print(predictions)\n",
        "out1,out2,out3,out4,label = model.predict(img2)\n",
        "print('\\n\\n\\n\\n\\n')\n",
        "print(label)"
      ],
      "execution_count": 18,
      "outputs": [
        {
          "output_type": "stream",
          "text": [
            "[array([[0.73466253]], dtype=float32), array([[1.6652038]], dtype=float32), array([[-0.07888289]], dtype=float32), array([[0.42095995]], dtype=float32), array([[1.9855715e-26, 8.9287336e-12, 7.0881010e-03, 1.8071998e-12,\n",
            "        6.0031974e-01, 9.1249854e-16, 3.9256030e-01, 2.3595605e-35,\n",
            "        3.1297868e-20, 3.1878906e-05]], dtype=float32)]\n",
            "\n",
            "\n",
            "\n",
            "\n",
            "\n",
            "\n",
            "[[1.9855715e-26 8.9287336e-12 7.0881010e-03 1.8071998e-12 6.0031974e-01\n",
            "  9.1249854e-16 3.9256030e-01 2.3595605e-35 3.1297868e-20 3.1878906e-05]]\n"
          ],
          "name": "stdout"
        }
      ]
    }
  ]
}